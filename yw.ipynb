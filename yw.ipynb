{
 "cells": [
  {
   "cell_type": "code",
   "execution_count": 13,
   "metadata": {},
   "outputs": [
    {
     "name": "stderr",
     "output_type": "stream",
     "text": [
      "[nltk_data] Downloading package punkt to\n",
      "[nltk_data]     C:\\Users\\12552\\AppData\\Roaming\\nltk_data...\n",
      "[nltk_data]   Package punkt is already up-to-date!\n",
      "[nltk_data] Downloading package averaged_perceptron_tagger to\n",
      "[nltk_data]     C:\\Users\\12552\\AppData\\Roaming\\nltk_data...\n",
      "[nltk_data]   Package averaged_perceptron_tagger is already up-to-\n",
      "[nltk_data]       date!\n",
      "[nltk_data] Downloading package stopwords to\n",
      "[nltk_data]     C:\\Users\\12552\\AppData\\Roaming\\nltk_data...\n",
      "[nltk_data]   Package stopwords is already up-to-date!\n",
      "[nltk_data] Downloading package wordnet to\n",
      "[nltk_data]     C:\\Users\\12552\\AppData\\Roaming\\nltk_data...\n",
      "[nltk_data]   Package wordnet is already up-to-date!\n",
      "[nltk_data] Downloading package vader_lexicon to\n",
      "[nltk_data]     C:\\Users\\12552\\AppData\\Roaming\\nltk_data...\n",
      "[nltk_data]   Package vader_lexicon is already up-to-date!\n"
     ]
    },
    {
     "name": "stdout",
     "output_type": "stream",
     "text": [
      "Average sentiment score is 0.003518344789271052\n",
      "The overall text sentiment is negative\n"
     ]
    }
   ],
   "source": [
    "import nltk\n",
    "import requests\n",
    "from nltk import FreqDist\n",
    "from nltk.corpus import stopwords\n",
    "from nltk.tokenize import word_tokenize\n",
    "from nltk.stem import WordNetLemmatizer\n",
    "from nltk.sentiment.vader import SentimentIntensityAnalyzer\n",
    "import matplotlib.pyplot as plt\n",
    "import re\n",
    "# Download necessary NLTK data\n",
    "nltk.download('punkt')\n",
    "nltk.download('averaged_perceptron_tagger')\n",
    "nltk.download('stopwords')\n",
    "nltk.download('wordnet')\n",
    "nltk.download('vader_lexicon')\n",
    "\n",
    "\n",
    "# Send an HTTP GET request to retrieve the content of Moby Dick from a website\n",
    "response = requests.get('https://www.gutenberg.org/files/2701/2701-0.txt')\n",
    "moby_dick_text = response.text\n",
    "\n",
    "\n",
    "\n"
   ]
  },
  {
   "cell_type": "code",
   "execution_count": 14,
   "metadata": {},
   "outputs": [],
   "source": [
    "tokens = word_tokenize(moby_dick_text)\n",
    "tokens = [token for token in tokens if not re.match(r\"[,.;!?]|s''\\d\", token)]\n",
    "\n",
    "# Remove stop words\n",
    "stop_words = set(stopwords.words('english'))\n",
    "filtered_tokens = [token for token in tokens if not token in stop_words]"
   ]
  },
  {
   "cell_type": "code",
   "execution_count": 15,
   "metadata": {},
   "outputs": [
    {
     "name": "stdout",
     "output_type": "stream",
     "text": [
      "[('NN', 28396), ('JJ', 21134), ('NNP', 12842), ('NNS', 10179), ('RB', 8651)]\n"
     ]
    }
   ],
   "source": [
    "# POS tagging\n",
    "tagged = nltk.pos_tag(filtered_tokens)\n",
    "\n",
    "# Count and display the 5 most common POS\n",
    "pos_freq = FreqDist(tag for (word, tag) in tagged)\n",
    "common_pos = pos_freq.most_common(5)\n",
    "print(common_pos)"
   ]
  },
  {
   "cell_type": "code",
   "execution_count": 16,
   "metadata": {},
   "outputs": [
    {
     "name": "stdout",
     "output_type": "stream",
     "text": [
      "[(('I', 'PRP'), 1836), (('one', 'CD'), 856), (('But', 'CC'), 675), (('The', 'DT'), 639), (('â\\x80\\x9d', 'NNP'), 571), (('like', 'IN'), 528), (('upon', 'IN'), 499), (('old', 'JJ'), 429), (('would', 'MD'), 417), (('Ahab', 'NNP'), 416), (('man', 'NN'), 413), (('whale', 'NN'), 340), (('And', 'CC'), 334), (('sea', 'NN'), 326), (('time', 'NN'), 313), (('though', 'IN'), 312), (('whale', 'JJ'), 309), (('said', 'VBD'), 297), (('still', 'RB'), 295), (('must', 'MD'), 291)]\n",
      "['I', 'one', 'â\\x80\\x9d', 'like', 'upon', 'old', 'would', 'Ahab', 'man', 'whale', 'sea', 'time', 'though', 'whale', 'say', 'still', 'must']\n"
     ]
    }
   ],
   "source": [
    "from collections import Counter\n",
    "import string\n",
    "pos_tag_mapping = {\n",
    "    'NNS': 'n',  # Noun, plural\n",
    "    'VBG': 'v',  # Verb, gerund or present participle\n",
    "    'NN': 'n',   # Noun, singular or mass\n",
    "    'VBD': 'v',  # Verb, past tense\n",
    "    'VBN': 'v',  # Verb, past participle\n",
    "    'JJ': 'a',   # Adjective\n",
    "    'VBZ': 'v',  # Verb, 3rd person singular present\n",
    "    'VBP': 'v',  # Verb, non-3rd person singular present\n",
    "    'RB': 'r',   # Adverb\n",
    "    'NNP': 'n',  # Proper noun, singular\n",
    "    'VB': 'v',   # Verb, base form\n",
    "    'IN': 'n',   # Preposition or subordinating conjunction\n",
    "    'PRP': 'n',  # Personal pronoun\n",
    "    'PRP$': 'n', # Possessive pronoun\n",
    "    'JJR': 'a',  # Adjective, comparative\n",
    "    'JJS': 'a',  # Adjective, superlative\n",
    "    'CD': 'n',   # Cardinal number\n",
    "    'MD': 'v',   # Modal\n",
    "    'VBG': 'v',  # Verb, gerund or present participle\n",
    "    'RBR': 'r',  # Adverb, comparative\n",
    "    'RBS': 'r',  # Adverb, superlative\n",
    "    'WP': 'n',   # Wh-pronoun\n",
    "    'WRB': 'r',  # Wh-adverb\n",
    "}\n",
    "\n",
    "# Assuming you have already defined 'pos_tagged_tokens' list\n",
    "\n",
    "# Extract the top 20 tokens\n",
    "top_20_tokens = Counter(tagged).most_common(20)\n",
    "\n",
    "# Create a lemmatizer instance\n",
    "lemmatizer = WordNetLemmatizer()\n",
    "\n",
    "# Lemmatize the top 20 tokens and remove punctuation\n",
    "lemmatized_tokens = [lemmatizer.lemmatize(token, pos=pos_tag_mapping[pos]) for (token, pos), count in top_20_tokens if pos in pos_tag_mapping and not all(char in string.punctuation for char in token)]\n",
    "\n",
    "# Print the lemmatized tokens\n",
    "print(top_20_tokens)\n",
    "print(lemmatized_tokens)"
   ]
  },
  {
   "cell_type": "code",
   "execution_count": 18,
   "metadata": {},
   "outputs": [
    {
     "data": {
      "image/png": "[encoded data removed]",
      "text/plain": [
       "<Figure size 640x480 with 1 Axes>"
      ]
     },
     "metadata": {},
     "output_type": "display_data"
    }
   ],
   "source": [
    "plt.bar(pos_freq.keys(), pos_freq.values())\n",
    "plt.show()\n"
   ]
  },
  {
   "cell_type": "code",
   "execution_count": 17,
   "metadata": {},
   "outputs": [
    {
     "name": "stdout",
     "output_type": "stream",
     "text": [
      "Average sentiment score is 0.004493685539365351\n",
      "The overall text sentiment is negative\n"
     ]
    }
   ],
   "source": [
    "# Perform sentiment analysis\n",
    "sia = SentimentIntensityAnalyzer()\n",
    "sentiments = [sia.polarity_scores(token)['compound'] for token in filtered_tokens]\n",
    "average_sentiment = sum(sentiments) / len(sentiments)\n",
    "\n",
    "print(\"Average sentiment score is\", average_sentiment)\n",
    "\n",
    "if average_sentiment > 0.05:\n",
    "    print(\"The overall text sentiment is positive\")\n",
    "else:\n",
    "    print(\"The overall text sentiment is negative\")"
   ]
  }
 ],
 "metadata": {
  "kernelspec": {
   "display_name": "yd",
   "language": "python",
   "name": "python3"
  },
  "language_info": {
   "codemirror_mode": {
    "name": "ipython",
    "version": 3
   },
   "file_extension": ".py",
   "mimetype": "text/x-python",
   "name": "python",
   "nbconvert_exporter": "python",
   "pygments_lexer": "ipython3",
   "version": "3.9.17"
  },
  "orig_nbformat": 4
 },
 "nbformat": 4,
 "nbformat_minor": 2
}
